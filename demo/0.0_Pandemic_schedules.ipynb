{
 "cells": [
  {
   "cell_type": "markdown",
   "id": "e768a2ad-93e9-47f2-8780-5dd0749f8fb4",
   "metadata": {},
   "source": [
    "# How did the Pandemic affect public transport?"
   ]
  },
  {
   "cell_type": "markdown",
   "id": "77f89800-a5ad-41b3-906e-b303b8aabc6c",
   "metadata": {},
   "source": [
    "In the face of the 2020 lockdowns, the number of riders on public transport plumetted. Many regular commuters and casual transit riders alike stayed home or switched to private modes. Bikes gained popularity and perhaps car share grew.\n",
    "\n",
    "That's the common perception, at least in my city, Kraków. But what kind of data can we study to understand traffic dynamics?  \n",
    "\n",
    "One source of truth are the publicly available GTFS schedules provided by made transit agencies worldwide.\n",
    "\n",
    "Let's take a look at how MPK Kraków changed its transit offering over time."
   ]
  },
  {
   "cell_type": "markdown",
   "id": "a7ed2794-8c30-430a-a157-0aef6b8777a9",
   "metadata": {},
   "source": [
    "## Approach\n",
    "\n",
    "The metric we want to know is number of stops per hour. One line, every ten minutes means approximately 60 stops per hour.\n",
    "\n",
    "We'll measure weekday peak times, in Kraków that's approximately 7:30-8:30 and 15:30 to 16:30. Outside of that, we'll measure weekday off peak from 12-13, weekday evenings 20-21, Night schedules on Friday nights from 1-2 am. Saturday and sunday at 12-13 and 20-21. This gives us approximately 5 weekday timings, and two timings per weekend day.\n",
    "\n",
    "It would be interesting to see how the offering changed over time before and after lockdowns.\n",
    "\n",
    "So let's say 1 March 2020, 1 April 2020, and 1 May 2020, or the nearest full schedule close to that.\n",
    "\n",
    "We'll study both buses and trams, and their combined statistics."
   ]
  },
  {
   "cell_type": "markdown",
   "id": "9b564dce-ca0b-450a-b77d-c4d87e6d22b2",
   "metadata": {},
   "source": [
    "## Visualize\n",
    "\n",
    "From news articles (TODO link), we know that some lines were suspended entirely, while others were reduced. Was the applied evenly across the whole city or were certain parts disproportionately affected? Did service drop below acceptable levels? (max headway)  \n",
    "\n",
    "To help us explore these ideas, we'll start mapping the impact visually."
   ]
  },
  {
   "cell_type": "code",
   "execution_count": 25,
   "id": "744d24c6-5594-4a78-aba5-bccc0b906aa4",
   "metadata": {},
   "outputs": [],
   "source": [
    "%load_ext lab_black"
   ]
  },
  {
   "cell_type": "code",
   "execution_count": 26,
   "id": "3b2f028a-30a2-4198-b1c2-c7fbdb081a53",
   "metadata": {},
   "outputs": [],
   "source": [
    "import os"
   ]
  },
  {
   "cell_type": "code",
   "execution_count": 28,
   "id": "4b8ff4ec-0498-474d-bf2d-01d0f7016b69",
   "metadata": {},
   "outputs": [],
   "source": [
    "# os.chdir(os.path.dirname(os.getcwd()))\n",
    "# os.chdir(\"2021sp-final-project-filipwodnicki\")"
   ]
  },
  {
   "cell_type": "markdown",
   "id": "6d432ae8-df53-4dd9-9684-a1134ade4682",
   "metadata": {},
   "source": [
    "## Get schedules"
   ]
  },
  {
   "cell_type": "code",
   "execution_count": 42,
   "id": "b217bdb3-2919-460f-b8fd-14a66c68ff6c",
   "metadata": {},
   "outputs": [],
   "source": [
    "import requests\n",
    "\n",
    "\n",
    "def download_url(url, save_path, chunk_size=128):\n",
    "    r = requests.get(url, stream=True)\n",
    "    with open(save_path, \"wb\") as fd:\n",
    "        for chunk in r.iter_content(chunk_size=chunk_size):\n",
    "            fd.write(chunk)\n",
    "\n",
    "\n",
    "# code credit: https://stackoverflow.com/questions/9419162/download-returned-zip-file-from-url"
   ]
  },
  {
   "cell_type": "code",
   "execution_count": 32,
   "id": "a8a84a02-b45a-4435-adc8-10f3a9698ed3",
   "metadata": {},
   "outputs": [],
   "source": [
    "feeds = [\n",
    "    \"https://transitfeeds.com/p/mpk-sa-w-krakowie/1105/20210201/download\",\n",
    "    \"https://transitfeeds.com/p/mpk-sa-w-krakowie/1105/20210315/download\",\n",
    "    \"https://transitfeeds.com/p/mpk-sa-w-krakowie/1105/20210327/download\",\n",
    "]"
   ]
  },
  {
   "cell_type": "code",
   "execution_count": 43,
   "id": "8db3c70e-9ae9-4682-b58e-72f3e7491648",
   "metadata": {},
   "outputs": [],
   "source": [
    "feeds_paths = []\n",
    "\n",
    "for feed in feeds:\n",
    "    city = \"krakow\"\n",
    "    date = feed.split(\"/\")[-2]\n",
    "    save_path = os.path.join(\"demo\", \"data\", f\"gtfs_{city}_tram_{date}.zip\")\n",
    "    #     download_url(feed, save_path=save_path)\n",
    "    feeds_paths.append(save_path)"
   ]
  },
  {
   "cell_type": "code",
   "execution_count": 45,
   "id": "62d53f8c-b95c-41a7-8192-536be397ea8e",
   "metadata": {},
   "outputs": [
    {
     "data": {
      "text/plain": [
       "['demo/data/gtfs_krakow_tram_20210201.zip',\n",
       " 'demo/data/gtfs_krakow_tram_20210315.zip',\n",
       " 'demo/data/gtfs_krakow_tram_20210327.zip']"
      ]
     },
     "execution_count": 45,
     "metadata": {},
     "output_type": "execute_result"
    }
   ],
   "source": [
    "feeds_paths"
   ]
  },
  {
   "cell_type": "markdown",
   "id": "02e2131e-df47-4b2b-a344-2f6063f4a1f8",
   "metadata": {},
   "source": [
    "## Basic stats"
   ]
  },
  {
   "cell_type": "markdown",
   "id": "9db921ea-444c-4254-8b77-fbc5e7ad515d",
   "metadata": {},
   "source": [
    "Now that we have our schedules saved, we'll need to open them to start exploring- how many stops were there at each time period during the week?\n",
    "\n",
    "By the way, it makes sense to save each file to disk because it's only 1.8MB each.   \n",
    "\n",
    "A hundred schedules would yield 180MB and if we did 100 cities, that would be 18GB. All very reasonable. However, at this scale of study, we do start to run into big data issues.\n",
    "\n",
    "We could reduce the weight by 1/10th by limiting the study period to 10 schedules. However, how would we do that? Is each schedule complete? "
   ]
  },
  {
   "cell_type": "code",
   "execution_count": 46,
   "id": "a3d991e9-6ac5-4782-9ae0-60b65180a766",
   "metadata": {},
   "outputs": [],
   "source": [
    "# Let's open the schedule using partridge\n",
    "import partridge as ptg"
   ]
  },
  {
   "cell_type": "code",
   "execution_count": 48,
   "id": "ea54fec2-5c00-4d07-8d53-424c94d2d133",
   "metadata": {},
   "outputs": [],
   "source": [
    "feed = feeds_paths[0]"
   ]
  },
  {
   "cell_type": "code",
   "execution_count": 49,
   "id": "eef2a536-534e-4c6b-8eef-77348034b7f0",
   "metadata": {},
   "outputs": [],
   "source": [
    "date, service_ids = ptg.read_busiest_date(feed)"
   ]
  },
  {
   "cell_type": "code",
   "execution_count": 56,
   "id": "dbaf5750-e93c-49c0-8c79-6be8f2f932af",
   "metadata": {},
   "outputs": [
    {
     "name": "stdout",
     "output_type": "stream",
     "text": [
      "frozenset({'service_1'})\n"
     ]
    }
   ],
   "source": [
    "print(service_ids)"
   ]
  },
  {
   "cell_type": "code",
   "execution_count": 52,
   "id": "074d8001-b3e2-48eb-b2b9-705fab918cae",
   "metadata": {},
   "outputs": [],
   "source": [
    "view = {\"trips.txt\": {\"service_id\": service_ids}}\n",
    "feed = ptg.load_feed(feed, view)"
   ]
  },
  {
   "cell_type": "code",
   "execution_count": 54,
   "id": "e9964631-266f-4b32-855b-6eaf14ea75c8",
   "metadata": {},
   "outputs": [
    {
     "data": {
      "text/html": [
       "<div>\n",
       "<style scoped>\n",
       "    .dataframe tbody tr th:only-of-type {\n",
       "        vertical-align: middle;\n",
       "    }\n",
       "\n",
       "    .dataframe tbody tr th {\n",
       "        vertical-align: top;\n",
       "    }\n",
       "\n",
       "    .dataframe thead th {\n",
       "        text-align: right;\n",
       "    }\n",
       "</style>\n",
       "<table border=\"1\" class=\"dataframe\">\n",
       "  <thead>\n",
       "    <tr style=\"text-align: right;\">\n",
       "      <th></th>\n",
       "      <th>trip_id</th>\n",
       "      <th>arrival_time</th>\n",
       "      <th>departure_time</th>\n",
       "      <th>stop_id</th>\n",
       "      <th>stop_sequence</th>\n",
       "      <th>stop_headsign</th>\n",
       "      <th>pickup_type</th>\n",
       "      <th>drop_off_type</th>\n",
       "      <th>shape_dist_traveled</th>\n",
       "      <th>timepoint</th>\n",
       "    </tr>\n",
       "  </thead>\n",
       "  <tbody>\n",
       "    <tr>\n",
       "      <th>0</th>\n",
       "      <td>block_1_trip_1_service_1</td>\n",
       "      <td>15000.0</td>\n",
       "      <td>15000.0</td>\n",
       "      <td>stop_293_61329</td>\n",
       "      <td>2</td>\n",
       "      <td>NaN</td>\n",
       "      <td>1</td>\n",
       "      <td>0</td>\n",
       "      <td>NaN</td>\n",
       "      <td>1</td>\n",
       "    </tr>\n",
       "    <tr>\n",
       "      <th>1</th>\n",
       "      <td>block_1_trip_1_service_1</td>\n",
       "      <td>15060.0</td>\n",
       "      <td>15060.0</td>\n",
       "      <td>stop_292_61229</td>\n",
       "      <td>3</td>\n",
       "      <td>NaN</td>\n",
       "      <td>1</td>\n",
       "      <td>0</td>\n",
       "      <td>NaN</td>\n",
       "      <td>1</td>\n",
       "    </tr>\n",
       "    <tr>\n",
       "      <th>2</th>\n",
       "      <td>block_1_trip_1_service_1</td>\n",
       "      <td>15180.0</td>\n",
       "      <td>15180.0</td>\n",
       "      <td>stop_285_58429</td>\n",
       "      <td>4</td>\n",
       "      <td>NaN</td>\n",
       "      <td>1</td>\n",
       "      <td>0</td>\n",
       "      <td>NaN</td>\n",
       "      <td>1</td>\n",
       "    </tr>\n",
       "    <tr>\n",
       "      <th>3</th>\n",
       "      <td>block_1_trip_1_service_1</td>\n",
       "      <td>15300.0</td>\n",
       "      <td>15300.0</td>\n",
       "      <td>stop_284_57729</td>\n",
       "      <td>5</td>\n",
       "      <td>NaN</td>\n",
       "      <td>1</td>\n",
       "      <td>0</td>\n",
       "      <td>NaN</td>\n",
       "      <td>1</td>\n",
       "    </tr>\n",
       "    <tr>\n",
       "      <th>4</th>\n",
       "      <td>block_1_trip_1_service_1</td>\n",
       "      <td>15420.0</td>\n",
       "      <td>15420.0</td>\n",
       "      <td>stop_283_57629</td>\n",
       "      <td>6</td>\n",
       "      <td>NaN</td>\n",
       "      <td>1</td>\n",
       "      <td>0</td>\n",
       "      <td>NaN</td>\n",
       "      <td>1</td>\n",
       "    </tr>\n",
       "    <tr>\n",
       "      <th>...</th>\n",
       "      <td>...</td>\n",
       "      <td>...</td>\n",
       "      <td>...</td>\n",
       "      <td>...</td>\n",
       "      <td>...</td>\n",
       "      <td>...</td>\n",
       "      <td>...</td>\n",
       "      <td>...</td>\n",
       "      <td>...</td>\n",
       "      <td>...</td>\n",
       "    </tr>\n",
       "    <tr>\n",
       "      <th>104536</th>\n",
       "      <td>block_328_trip_13_service_1</td>\n",
       "      <td>65700.0</td>\n",
       "      <td>65700.0</td>\n",
       "      <td>stop_353_274439</td>\n",
       "      <td>17</td>\n",
       "      <td>NaN</td>\n",
       "      <td>0</td>\n",
       "      <td>0</td>\n",
       "      <td>NaN</td>\n",
       "      <td>1</td>\n",
       "    </tr>\n",
       "    <tr>\n",
       "      <th>104537</th>\n",
       "      <td>block_328_trip_13_service_1</td>\n",
       "      <td>65820.0</td>\n",
       "      <td>65820.0</td>\n",
       "      <td>stop_253_42319</td>\n",
       "      <td>18</td>\n",
       "      <td>NaN</td>\n",
       "      <td>0</td>\n",
       "      <td>0</td>\n",
       "      <td>NaN</td>\n",
       "      <td>1</td>\n",
       "    </tr>\n",
       "    <tr>\n",
       "      <th>104538</th>\n",
       "      <td>block_328_trip_13_service_1</td>\n",
       "      <td>66000.0</td>\n",
       "      <td>66000.0</td>\n",
       "      <td>stop_267_45919</td>\n",
       "      <td>19</td>\n",
       "      <td>NaN</td>\n",
       "      <td>1</td>\n",
       "      <td>0</td>\n",
       "      <td>NaN</td>\n",
       "      <td>1</td>\n",
       "    </tr>\n",
       "    <tr>\n",
       "      <th>104539</th>\n",
       "      <td>block_328_trip_14_service_1</td>\n",
       "      <td>66120.0</td>\n",
       "      <td>66120.0</td>\n",
       "      <td>stop_273_46529</td>\n",
       "      <td>2</td>\n",
       "      <td>NaN</td>\n",
       "      <td>1</td>\n",
       "      <td>0</td>\n",
       "      <td>NaN</td>\n",
       "      <td>1</td>\n",
       "    </tr>\n",
       "    <tr>\n",
       "      <th>104540</th>\n",
       "      <td>block_328_trip_14_service_1</td>\n",
       "      <td>66240.0</td>\n",
       "      <td>66240.0</td>\n",
       "      <td>stop_274_46619</td>\n",
       "      <td>3</td>\n",
       "      <td>NaN</td>\n",
       "      <td>1</td>\n",
       "      <td>0</td>\n",
       "      <td>NaN</td>\n",
       "      <td>1</td>\n",
       "    </tr>\n",
       "  </tbody>\n",
       "</table>\n",
       "<p>104541 rows × 10 columns</p>\n",
       "</div>"
      ],
      "text/plain": [
       "                            trip_id  arrival_time  departure_time  \\\n",
       "0          block_1_trip_1_service_1       15000.0         15000.0   \n",
       "1          block_1_trip_1_service_1       15060.0         15060.0   \n",
       "2          block_1_trip_1_service_1       15180.0         15180.0   \n",
       "3          block_1_trip_1_service_1       15300.0         15300.0   \n",
       "4          block_1_trip_1_service_1       15420.0         15420.0   \n",
       "...                             ...           ...             ...   \n",
       "104536  block_328_trip_13_service_1       65700.0         65700.0   \n",
       "104537  block_328_trip_13_service_1       65820.0         65820.0   \n",
       "104538  block_328_trip_13_service_1       66000.0         66000.0   \n",
       "104539  block_328_trip_14_service_1       66120.0         66120.0   \n",
       "104540  block_328_trip_14_service_1       66240.0         66240.0   \n",
       "\n",
       "                stop_id  stop_sequence stop_headsign  pickup_type  \\\n",
       "0        stop_293_61329              2           NaN            1   \n",
       "1        stop_292_61229              3           NaN            1   \n",
       "2        stop_285_58429              4           NaN            1   \n",
       "3        stop_284_57729              5           NaN            1   \n",
       "4        stop_283_57629              6           NaN            1   \n",
       "...                 ...            ...           ...          ...   \n",
       "104536  stop_353_274439             17           NaN            0   \n",
       "104537   stop_253_42319             18           NaN            0   \n",
       "104538   stop_267_45919             19           NaN            1   \n",
       "104539   stop_273_46529              2           NaN            1   \n",
       "104540   stop_274_46619              3           NaN            1   \n",
       "\n",
       "       drop_off_type  shape_dist_traveled  timepoint  \n",
       "0                  0                  NaN          1  \n",
       "1                  0                  NaN          1  \n",
       "2                  0                  NaN          1  \n",
       "3                  0                  NaN          1  \n",
       "4                  0                  NaN          1  \n",
       "...              ...                  ...        ...  \n",
       "104536             0                  NaN          1  \n",
       "104537             0                  NaN          1  \n",
       "104538             0                  NaN          1  \n",
       "104539             0                  NaN          1  \n",
       "104540             0                  NaN          1  \n",
       "\n",
       "[104541 rows x 10 columns]"
      ]
     },
     "execution_count": 54,
     "metadata": {},
     "output_type": "execute_result"
    }
   ],
   "source": [
    "feed.stop_times"
   ]
  },
  {
   "cell_type": "code",
   "execution_count": 57,
   "id": "4e3b8fe2-20d3-4616-ac8a-f62b012bd5b6",
   "metadata": {},
   "outputs": [],
   "source": [
    "# How many stop times were there throughout the day?"
   ]
  },
  {
   "cell_type": "code",
   "execution_count": 58,
   "id": "dedc763b-9671-42d4-9a70-37ce930e88d7",
   "metadata": {},
   "outputs": [],
   "source": [
    "# How many lines are there?"
   ]
  },
  {
   "cell_type": "code",
   "execution_count": 60,
   "id": "f875082c-d1e0-424f-9e35-b6fba0321ffd",
   "metadata": {},
   "outputs": [],
   "source": [
    "# What was the busiest stop"
   ]
  },
  {
   "cell_type": "code",
   "execution_count": 61,
   "id": "99a68ce2-45b7-4f6e-ba3b-db37bf8b5e20",
   "metadata": {},
   "outputs": [],
   "source": [
    "# Average stop?"
   ]
  },
  {
   "cell_type": "code",
   "execution_count": 62,
   "id": "00aa1379-6bab-4448-a270-e5603aa4eb64",
   "metadata": {},
   "outputs": [],
   "source": [
    "# Least busy stop?"
   ]
  },
  {
   "cell_type": "code",
   "execution_count": null,
   "id": "d39a664b-4574-473e-bb30-fd09718f85fe",
   "metadata": {},
   "outputs": [],
   "source": []
  },
  {
   "cell_type": "markdown",
   "id": "61c583b7-e7f4-44e6-bd60-2f4201a5b6d2",
   "metadata": {},
   "source": [
    "## Visualize"
   ]
  },
  {
   "cell_type": "code",
   "execution_count": null,
   "id": "396fd50f-0769-4ae1-ae19-52367d4a7c7f",
   "metadata": {},
   "outputs": [],
   "source": []
  },
  {
   "cell_type": "code",
   "execution_count": 29,
   "id": "aab69e47-fae6-45cd-bb19-fce1908311af",
   "metadata": {},
   "outputs": [],
   "source": [
    "from final_project.network import WalkNetwork, TransitNetwork, MultiNetwork"
   ]
  },
  {
   "cell_type": "code",
   "execution_count": null,
   "id": "2baf2382-9205-4a38-b736-15dac166d407",
   "metadata": {},
   "outputs": [],
   "source": []
  }
 ],
 "metadata": {
  "kernelspec": {
   "display_name": "Python 3 (ipykernel)",
   "language": "python",
   "name": "python3"
  },
  "language_info": {
   "codemirror_mode": {
    "name": "ipython",
    "version": 3
   },
   "file_extension": ".py",
   "mimetype": "text/x-python",
   "name": "python",
   "nbconvert_exporter": "python",
   "pygments_lexer": "ipython3",
   "version": "3.9.7"
  }
 },
 "nbformat": 4,
 "nbformat_minor": 5
}
